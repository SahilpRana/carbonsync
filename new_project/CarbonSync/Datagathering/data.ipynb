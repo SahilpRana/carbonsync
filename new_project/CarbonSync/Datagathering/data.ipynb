{
 "cells": [
  {
   "cell_type": "markdown",
   "id": "26525240",
   "metadata": {},
   "source": [
    "# Climate variables were gathered through the NASA POWER API, offering reliable, real-time historical data for modeling."
   ]
  },
  {
   "cell_type": "code",
   "execution_count": 4,
   "id": "77964f7c",
   "metadata": {},
   "outputs": [],
   "source": [
    "# import necessary libraries\n",
    "import requests\n",
    "import pandas as pd\n",
    "import os"
   ]
  },
  {
   "cell_type": "code",
   "execution_count": null,
   "id": "d747308d",
   "metadata": {},
   "outputs": [],
   "source": [
    "def fetch_nasa_power_data(latitude, longitude, start_year, end_year, parameters, filename=\"climate_data.csv\"):\n",
    "\n",
    "    # Define the base URL for the POWER API\n",
    "    base_url = \"https://power.larc.nasa.gov/api/temporal/monthly/point\"\n",
    "\n",
    "    # Add precipitation and solar radiation to the parameters\n",
    "    parameters = parameters + \",PRECTOTCORR,ALLSKY_SFC_SW_DWN\"\n",
    "\n",
    "    # Required query parameters\n",
    "    query_params = {\n",
    "        \"latitude\": latitude,\n",
    "        \"longitude\": longitude,\n",
    "        \"start\": start_year,\n",
    "        \"end\": end_year,\n",
    "        \"parameters\": parameters,\n",
    "        \"community\": \"RE\",\n",
    "        \"format\": \"JSON\"\n",
    "    }\n",
    "\n",
    "    # API request\n",
    "    response = requests.get(base_url, params=query_params)\n",
    "    response.raise_for_status()\n",
    "\n",
    "    # Parse the JSON response\n",
    "    data = response.json()\n",
    "\n",
    "    # Extract data from the response\n",
    "    records = []\n",
    "    parameters_list = parameters.split(',')\n",
    "    for year_month, values in data['properties']['parameter'][parameters_list[0]].items():\n",
    "        record = {'year_month': year_month}\n",
    "        for param in parameters_list:\n",
    "            record[param] = data['properties']['parameter'][param].get(year_month)\n",
    "        records.append(record)\n",
    "\n",
    "    # Convert records into DataFrame\n",
    "    df = pd.DataFrame(records)\n",
    "\n",
    "    # Convert the 'year_month' column to datetime\n",
    "    df['year_month'] = pd.to_datetime(df['year_month'], format='%Y%m', errors='coerce')\n",
    "\n",
    "    # Extracting Year and Month separately\n",
    "    df['year'] = df['year_month'].dt.year\n",
    "    df['month'] = df['year_month'].dt.month\n",
    "\n",
    "    # Drop 'year_month' \n",
    "    df.drop(columns=['year_month'], inplace=True)\n",
    "\n",
    "    # Remove rows with NaN values and reset index\n",
    "    df.dropna(inplace=True)\n",
    "    df.reset_index(drop=True, inplace=True)\n",
    "\n",
    "    # Save the cleaned DataFrame to a CSV file\n",
    "    df.to_csv(filename, index=False)\n",
    "\n",
    "    print(f\"Data saved to {filename} in {os.getcwd()}\")\n",
    "\n",
    "    return df"
   ]
  },
  {
   "cell_type": "code",
   "execution_count": 8,
   "id": "4ca0e937",
   "metadata": {},
   "outputs": [
    {
     "name": "stdout",
     "output_type": "stream",
     "text": [
      "Data saved to climate_data.csv in c:\\Users\\sahil\\New Project\\Datagathering\n",
      "     WS2M    T2M     PS  PRECTOTCORR  ALLSKY_SFC_SW_DWN    year  month\n",
      "0    1.52  -2.96  66.61         0.04               3.51  2000.0    1.0\n",
      "1    1.79  -4.34  66.47         0.06               3.95  2000.0    2.0\n",
      "2    1.96  -0.11  66.69         0.08               4.77  2000.0    3.0\n",
      "3    2.07   6.18  66.85         0.05               5.65  2000.0    4.0\n",
      "4    2.07   9.79  66.88         1.45               5.11  2000.0    5.0\n",
      "..    ...    ...    ...          ...                ...     ...    ...\n",
      "259  1.74  11.60  66.89        20.41               3.95  2021.0    8.0\n",
      "260  1.46  10.28  67.09         9.81               4.26  2021.0    9.0\n",
      "261  1.33   7.30  67.11         7.55               4.29  2021.0   10.0\n",
      "262  1.23   2.66  66.94         0.01               4.12  2021.0   11.0\n",
      "263  1.27  -1.77  66.89         1.29               3.09  2021.0   12.0\n",
      "\n",
      "[264 rows x 7 columns]\n"
     ]
    }
   ],
   "source": [
    "# Main function to execute the script\n",
    "if __name__ == \"__main__\":\n",
    "\n",
    "    # Define the time range\n",
    "    start_year = 2000\n",
    "    end_year = 2021\n",
    "\n",
    "    # Define the location (latitude and longitude)\n",
    "    latitude = 28.3949\n",
    "    longitude = 84.1240\n",
    "    \n",
    "    # The locations can be defined as follows for multiple countries.\n",
    "    # locations = [\n",
    "    # (61.5240, 105.3188),\n",
    "    # (60.1282, 18.6435),   \n",
    "     # (40.4637, -3.7492),...]\n",
    "\n",
    "    # Define the desired parameters\n",
    "    parameters = \"WS2M,T2M,PS\"\n",
    "\n",
    "    # Fetch the data and save to CSV\n",
    "    climate_data = fetch_nasa_power_data(latitude, longitude, start_year, end_year, parameters)\n",
    "\n",
    "    # Display the cleaned data\n",
    "    print(climate_data)"
   ]
  },
  {
   "cell_type": "code",
   "execution_count": null,
   "id": "618384ec",
   "metadata": {},
   "outputs": [],
   "source": []
  }
 ],
 "metadata": {
  "kernelspec": {
   "display_name": "base",
   "language": "python",
   "name": "python3"
  },
  "language_info": {
   "codemirror_mode": {
    "name": "ipython",
    "version": 3
   },
   "file_extension": ".py",
   "mimetype": "text/x-python",
   "name": "python",
   "nbconvert_exporter": "python",
   "pygments_lexer": "ipython3",
   "version": "3.12.7"
  }
 },
 "nbformat": 4,
 "nbformat_minor": 5
}

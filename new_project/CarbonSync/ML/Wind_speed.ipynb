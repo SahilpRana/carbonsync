{
 "cells": [
  {
   "cell_type": "code",
   "execution_count": 2,
   "id": "ca7d4d03",
   "metadata": {},
   "outputs": [],
   "source": [
    "import numpy as np\n",
    "import pandas as pd "
   ]
  },
  {
   "cell_type": "code",
   "execution_count": 3,
   "id": "1aba20f6",
   "metadata": {},
   "outputs": [
    {
     "data": {
      "text/html": [
       "<div>\n",
       "<style scoped>\n",
       "    .dataframe tbody tr th:only-of-type {\n",
       "        vertical-align: middle;\n",
       "    }\n",
       "\n",
       "    .dataframe tbody tr th {\n",
       "        vertical-align: top;\n",
       "    }\n",
       "\n",
       "    .dataframe thead th {\n",
       "        text-align: right;\n",
       "    }\n",
       "</style>\n",
       "<table border=\"1\" class=\"dataframe\">\n",
       "  <thead>\n",
       "    <tr style=\"text-align: right;\">\n",
       "      <th></th>\n",
       "      <th>Region</th>\n",
       "      <th>Country</th>\n",
       "      <th>wind speed(m/s)</th>\n",
       "      <th>Temp(C)</th>\n",
       "      <th>SP(kPa)</th>\n",
       "      <th>PRECTOTCORR</th>\n",
       "      <th>ASSD(kWh/m²/day)</th>\n",
       "      <th>year</th>\n",
       "      <th>month</th>\n",
       "    </tr>\n",
       "  </thead>\n",
       "  <tbody>\n",
       "    <tr>\n",
       "      <th>0</th>\n",
       "      <td>Americas</td>\n",
       "      <td>Dominican Republic</td>\n",
       "      <td>4.62</td>\n",
       "      <td>24.69</td>\n",
       "      <td>101.28</td>\n",
       "      <td>0.07</td>\n",
       "      <td>5.65</td>\n",
       "      <td>2000</td>\n",
       "      <td>1</td>\n",
       "    </tr>\n",
       "    <tr>\n",
       "      <th>1</th>\n",
       "      <td>Americas</td>\n",
       "      <td>Dominican Republic</td>\n",
       "      <td>4.08</td>\n",
       "      <td>25.28</td>\n",
       "      <td>101.18</td>\n",
       "      <td>0.08</td>\n",
       "      <td>5.83</td>\n",
       "      <td>2000</td>\n",
       "      <td>2</td>\n",
       "    </tr>\n",
       "    <tr>\n",
       "      <th>2</th>\n",
       "      <td>Americas</td>\n",
       "      <td>Dominican Republic</td>\n",
       "      <td>3.11</td>\n",
       "      <td>26.10</td>\n",
       "      <td>101.02</td>\n",
       "      <td>2.12</td>\n",
       "      <td>5.97</td>\n",
       "      <td>2000</td>\n",
       "      <td>3</td>\n",
       "    </tr>\n",
       "    <tr>\n",
       "      <th>3</th>\n",
       "      <td>Americas</td>\n",
       "      <td>Dominican Republic</td>\n",
       "      <td>2.95</td>\n",
       "      <td>27.35</td>\n",
       "      <td>100.76</td>\n",
       "      <td>0.63</td>\n",
       "      <td>6.89</td>\n",
       "      <td>2000</td>\n",
       "      <td>4</td>\n",
       "    </tr>\n",
       "    <tr>\n",
       "      <th>4</th>\n",
       "      <td>Americas</td>\n",
       "      <td>Dominican Republic</td>\n",
       "      <td>5.03</td>\n",
       "      <td>28.77</td>\n",
       "      <td>100.58</td>\n",
       "      <td>5.44</td>\n",
       "      <td>5.22</td>\n",
       "      <td>2000</td>\n",
       "      <td>5</td>\n",
       "    </tr>\n",
       "  </tbody>\n",
       "</table>\n",
       "</div>"
      ],
      "text/plain": [
       "     Region             Country  wind speed(m/s)  Temp(C)  SP(kPa)  \\\n",
       "0  Americas  Dominican Republic             4.62    24.69   101.28   \n",
       "1  Americas  Dominican Republic             4.08    25.28   101.18   \n",
       "2  Americas  Dominican Republic             3.11    26.10   101.02   \n",
       "3  Americas  Dominican Republic             2.95    27.35   100.76   \n",
       "4  Americas  Dominican Republic             5.03    28.77   100.58   \n",
       "\n",
       "   PRECTOTCORR  ASSD(kWh/m²/day)  year   month  \n",
       "0         0.07              5.65   2000      1  \n",
       "1         0.08              5.83   2000      2  \n",
       "2         2.12              5.97   2000      3  \n",
       "3         0.63              6.89   2000      4  \n",
       "4         5.44              5.22   2000      5  "
      ]
     },
     "execution_count": 3,
     "metadata": {},
     "output_type": "execute_result"
    }
   ],
   "source": [
    "data = pd.read_csv('../Datagathering/data.csv')\n",
    "data.head()"
   ]
  },
  {
   "cell_type": "code",
   "execution_count": 4,
   "id": "58b77c84",
   "metadata": {},
   "outputs": [],
   "source": [
    "numeric_features = data[['year ', 'month', 'Temp(C)', 'SP(kPa)', 'ASSD(kWh/m²/day)']]\n",
    "categorical_features = data[['Region', 'Country']]"
   ]
  },
  {
   "cell_type": "code",
   "execution_count": 5,
   "id": "cc391287",
   "metadata": {},
   "outputs": [],
   "source": [
    "# data scaling\n",
    "from sklearn.preprocessing import StandardScaler, OneHotEncoder\n",
    "scaler = StandardScaler()\n",
    "ohe = OneHotEncoder(sparse_output=False, handle_unknown='ignore')\n",
    "\n",
    "numeric_features_scaled = scaler.fit_transform(numeric_features)\n",
    "numeric_features_df = pd.DataFrame(numeric_features_scaled, columns=numeric_features.columns)\n",
    "\n",
    "categorical_features_encoded = ohe.fit_transform(categorical_features)\n",
    "categorical_features_df = pd.DataFrame(categorical_features_encoded, columns=ohe.get_feature_names_out(categorical_features.columns))\n",
    "# Combine the processed features\n",
    "processed_data = pd.concat([numeric_features_df, categorical_features_df], axis=1)"
   ]
  },
  {
   "cell_type": "code",
   "execution_count": 6,
   "id": "fd9b976f",
   "metadata": {},
   "outputs": [],
   "source": [
    "# split the data into training and testing sets\n",
    "from sklearn.model_selection import train_test_split\n",
    "from sklearn.metrics import mean_squared_error, r2_score\n",
    "\n",
    "x= processed_data\n",
    "y= data['wind speed(m/s)']\n",
    "\n",
    "x_train, x_test, y_train, y_test = train_test_split(x, y, test_size=0.2, random_state=42)"
   ]
  },
  {
   "cell_type": "code",
   "execution_count": 7,
   "id": "57390391",
   "metadata": {},
   "outputs": [],
   "source": [
    "# model training\n",
    "from sklearn.ensemble import RandomForestRegressor\n",
    "model = RandomForestRegressor(n_estimators=100, random_state=42)\n",
    "model.fit(x_train, y_train)\n",
    "\n",
    "# model evaluation\n",
    "y_pred = model.predict(x_test)\n",
    "mse = mean_squared_error(y_test, y_pred)\n",
    "r2 = r2_score(y_test, y_pred)"
   ]
  },
  {
   "cell_type": "code",
   "execution_count": 8,
   "id": "eeaefe6d",
   "metadata": {},
   "outputs": [
    {
     "name": "stdout",
     "output_type": "stream",
     "text": [
      "0.08912276382419444 0.9526722396730888\n"
     ]
    }
   ],
   "source": [
    "print(mse , r2)"
   ]
  },
  {
   "cell_type": "code",
   "execution_count": 9,
   "id": "819cd088",
   "metadata": {},
   "outputs": [
    {
     "name": "stdout",
     "output_type": "stream",
     "text": [
      "Cross-validated R² scores: [0.94808085 0.94882886 0.94764379 0.94821627 0.9457213 ]\n",
      "Mean R²: 0.9476982139401324\n"
     ]
    }
   ],
   "source": [
    "# Cross-validation to evaluate the model\n",
    "from sklearn.model_selection import cross_val_score\n",
    "\n",
    "scores = cross_val_score(model, x_train, y_train, cv=5, scoring='r2')\n",
    "print(\"Cross-validated R² scores:\", scores)\n",
    "print(\"Mean R²:\", scores.mean())"
   ]
  },
  {
   "cell_type": "code",
   "execution_count": 10,
   "id": "5ca36a60",
   "metadata": {},
   "outputs": [
    {
     "data": {
      "text/plain": [
       "['../Models/wind_speed.pkl']"
      ]
     },
     "execution_count": 10,
     "metadata": {},
     "output_type": "execute_result"
    }
   ],
   "source": [
    "# save the model\n",
    "import joblib\n",
    "joblib.dump(model, '../Models/wind_speed.pkl')"
   ]
  },
  {
   "cell_type": "code",
   "execution_count": 11,
   "id": "95a9a56e",
   "metadata": {},
   "outputs": [
    {
     "data": {
      "text/plain": [
       "['../models/scaler4.pkl']"
      ]
     },
     "execution_count": 11,
     "metadata": {},
     "output_type": "execute_result"
    }
   ],
   "source": [
    "joblib.dump(ohe, '../models/encoder4.pkl')\n",
    "joblib.dump(scaler, '../models/scaler4.pkl')"
   ]
  },
  {
   "cell_type": "code",
   "execution_count": null,
   "id": "cac48dc6",
   "metadata": {},
   "outputs": [],
   "source": []
  }
 ],
 "metadata": {
  "kernelspec": {
   "display_name": "New_project",
   "language": "python",
   "name": "python3"
  },
  "language_info": {
   "codemirror_mode": {
    "name": "ipython",
    "version": 3
   },
   "file_extension": ".py",
   "mimetype": "text/x-python",
   "name": "python",
   "nbconvert_exporter": "python",
   "pygments_lexer": "ipython3",
   "version": "3.10.18"
  }
 },
 "nbformat": 4,
 "nbformat_minor": 5
}
